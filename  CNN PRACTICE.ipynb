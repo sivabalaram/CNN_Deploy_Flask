{
 "cells": [
  {
   "cell_type": "code",
   "execution_count": 22,
   "id": "8aa28ecd",
   "metadata": {},
   "outputs": [],
   "source": [
    "import tensorflow as tf\n",
    "from keras.preprocessing.image import ImageDataGenerator"
   ]
  },
  {
   "cell_type": "code",
   "execution_count": 23,
   "id": "db5df4b1",
   "metadata": {},
   "outputs": [
    {
     "data": {
      "text/plain": [
       "'2.3.0'"
      ]
     },
     "execution_count": 23,
     "metadata": {},
     "output_type": "execute_result"
    }
   ],
   "source": [
    "tf.__version__"
   ]
  },
  {
   "cell_type": "code",
   "execution_count": 24,
   "id": "0c47e1e8",
   "metadata": {},
   "outputs": [
    {
     "name": "stdout",
     "output_type": "stream",
     "text": [
      "Found 8000 images belonging to 2 classes.\n"
     ]
    }
   ],
   "source": [
    "train_datagen = ImageDataGenerator(rescale = 1./255,\n",
    "                                   shear_range = 0.2,\n",
    "                                   zoom_range = 0.2,\n",
    "                                   horizontal_flip = True)\n",
    "training_set = train_datagen.flow_from_directory('dataset/training_set',\n",
    "                                                 target_size = (64, 64),\n",
    "                                                 batch_size = 32,\n",
    "                                                 class_mode = 'binary')"
   ]
  },
  {
   "cell_type": "code",
   "execution_count": 25,
   "id": "ca50e1e3",
   "metadata": {},
   "outputs": [
    {
     "name": "stdout",
     "output_type": "stream",
     "text": [
      "Found 2000 images belonging to 2 classes.\n"
     ]
    }
   ],
   "source": [
    "test_datagen = ImageDataGenerator(rescale = 1./255)\n",
    "test_set = test_datagen.flow_from_directory('dataset/test_set',\n",
    "                                            target_size = (64, 64),\n",
    "                                            batch_size = 32,\n",
    "                                            class_mode = 'binary')"
   ]
  },
  {
   "cell_type": "code",
   "execution_count": 26,
   "id": "7ff610fe",
   "metadata": {},
   "outputs": [],
   "source": [
    "cnn = tf.keras.models.Sequential()"
   ]
  },
  {
   "cell_type": "code",
   "execution_count": 27,
   "id": "074165b0",
   "metadata": {},
   "outputs": [],
   "source": [
    "cnn.add(tf.keras.layers.Conv2D(filters=32, kernel_size=3, activation='relu', input_shape=[64, 64, 3]))"
   ]
  },
  {
   "cell_type": "code",
   "execution_count": 28,
   "id": "24d98151",
   "metadata": {},
   "outputs": [],
   "source": [
    "cnn.add(tf.keras.layers.MaxPool2D(pool_size=2, strides=2))"
   ]
  },
  {
   "cell_type": "code",
   "execution_count": 29,
   "id": "f128c6f1",
   "metadata": {},
   "outputs": [],
   "source": [
    "cnn.add(tf.keras.layers.Conv2D(filters=32, kernel_size=3, activation='relu'))\n",
    "cnn.add(tf.keras.layers.MaxPool2D(pool_size=2, strides=2))"
   ]
  },
  {
   "cell_type": "code",
   "execution_count": 30,
   "id": "4f8f8118",
   "metadata": {},
   "outputs": [],
   "source": [
    "cnn.add(tf.keras.layers.Flatten())"
   ]
  },
  {
   "cell_type": "code",
   "execution_count": 31,
   "id": "60c84ce5",
   "metadata": {},
   "outputs": [],
   "source": [
    "cnn.add(tf.keras.layers.Dense(units=128, activation='relu'))"
   ]
  },
  {
   "cell_type": "code",
   "execution_count": 32,
   "id": "bc1f1dbe",
   "metadata": {},
   "outputs": [],
   "source": [
    "cnn.add(tf.keras.layers.Dense(units=1, activation='sigmoid'))"
   ]
  },
  {
   "cell_type": "code",
   "execution_count": 33,
   "id": "25855463",
   "metadata": {},
   "outputs": [],
   "source": [
    "cnn.compile(optimizer = 'adam', loss = 'binary_crossentropy', metrics = ['accuracy'])"
   ]
  },
  {
   "cell_type": "code",
   "execution_count": 34,
   "id": "c5d40f85",
   "metadata": {},
   "outputs": [
    {
     "name": "stdout",
     "output_type": "stream",
     "text": [
      "Epoch 1/25\n",
      "250/250 [==============================] - 44s 177ms/step - loss: 0.6496 - accuracy: 0.6137 - val_loss: 0.5859 - val_accuracy: 0.6830\n",
      "Epoch 2/25\n",
      "250/250 [==============================] - 45s 179ms/step - loss: 0.5827 - accuracy: 0.6946 - val_loss: 0.6240 - val_accuracy: 0.6570\n",
      "Epoch 3/25\n",
      "250/250 [==============================] - 46s 182ms/step - loss: 0.5540 - accuracy: 0.7215 - val_loss: 0.5983 - val_accuracy: 0.6795\n",
      "Epoch 4/25\n",
      "250/250 [==============================] - 46s 184ms/step - loss: 0.5274 - accuracy: 0.7314 - val_loss: 0.4991 - val_accuracy: 0.7565\n",
      "Epoch 5/25\n",
      "250/250 [==============================] - 46s 183ms/step - loss: 0.5039 - accuracy: 0.7524 - val_loss: 0.4945 - val_accuracy: 0.7635\n",
      "Epoch 6/25\n",
      "250/250 [==============================] - 48s 193ms/step - loss: 0.4866 - accuracy: 0.7655 - val_loss: 0.5056 - val_accuracy: 0.7535\n",
      "Epoch 7/25\n",
      "250/250 [==============================] - 52s 209ms/step - loss: 0.4650 - accuracy: 0.7774 - val_loss: 0.4688 - val_accuracy: 0.7865\n",
      "Epoch 8/25\n",
      "250/250 [==============================] - 49s 197ms/step - loss: 0.4578 - accuracy: 0.7788 - val_loss: 0.4759 - val_accuracy: 0.7930\n",
      "Epoch 9/25\n",
      "250/250 [==============================] - 48s 190ms/step - loss: 0.4330 - accuracy: 0.7970 - val_loss: 0.4960 - val_accuracy: 0.7745\n",
      "Epoch 10/25\n",
      "250/250 [==============================] - 46s 185ms/step - loss: 0.4201 - accuracy: 0.7994 - val_loss: 0.4501 - val_accuracy: 0.7875\n",
      "Epoch 11/25\n",
      "250/250 [==============================] - 48s 190ms/step - loss: 0.4128 - accuracy: 0.8009 - val_loss: 0.4496 - val_accuracy: 0.8000\n",
      "Epoch 12/25\n",
      "250/250 [==============================] - 49s 197ms/step - loss: 0.4054 - accuracy: 0.8100 - val_loss: 0.4785 - val_accuracy: 0.7765\n",
      "Epoch 13/25\n",
      "250/250 [==============================] - 46s 183ms/step - loss: 0.3915 - accuracy: 0.8232 - val_loss: 0.4369 - val_accuracy: 0.7950\n",
      "Epoch 14/25\n",
      "250/250 [==============================] - 47s 187ms/step - loss: 0.3785 - accuracy: 0.8263 - val_loss: 0.4469 - val_accuracy: 0.7890\n",
      "Epoch 15/25\n",
      "250/250 [==============================] - 46s 182ms/step - loss: 0.3638 - accuracy: 0.8340 - val_loss: 0.4703 - val_accuracy: 0.7885\n",
      "Epoch 16/25\n",
      "250/250 [==============================] - 45s 182ms/step - loss: 0.3547 - accuracy: 0.8439 - val_loss: 0.4405 - val_accuracy: 0.8010\n",
      "Epoch 17/25\n",
      "250/250 [==============================] - 46s 186ms/step - loss: 0.3431 - accuracy: 0.8491 - val_loss: 0.4469 - val_accuracy: 0.8055\n",
      "Epoch 18/25\n",
      "250/250 [==============================] - 46s 184ms/step - loss: 0.3267 - accuracy: 0.8530 - val_loss: 0.4687 - val_accuracy: 0.7835\n",
      "Epoch 19/25\n",
      "250/250 [==============================] - 46s 184ms/step - loss: 0.3179 - accuracy: 0.8593 - val_loss: 0.4405 - val_accuracy: 0.7920\n",
      "Epoch 20/25\n",
      "250/250 [==============================] - 51s 204ms/step - loss: 0.3047 - accuracy: 0.8648 - val_loss: 0.4782 - val_accuracy: 0.7970\n",
      "Epoch 21/25\n",
      "250/250 [==============================] - 47s 187ms/step - loss: 0.2970 - accuracy: 0.8694 - val_loss: 0.4580 - val_accuracy: 0.7975\n",
      "Epoch 22/25\n",
      "250/250 [==============================] - 46s 186ms/step - loss: 0.2760 - accuracy: 0.8820 - val_loss: 0.5644 - val_accuracy: 0.7775\n",
      "Epoch 23/25\n",
      "250/250 [==============================] - 47s 188ms/step - loss: 0.2735 - accuracy: 0.8846 - val_loss: 0.4851 - val_accuracy: 0.8035\n",
      "Epoch 24/25\n",
      "250/250 [==============================] - 48s 192ms/step - loss: 0.2629 - accuracy: 0.8861 - val_loss: 0.4856 - val_accuracy: 0.7885\n",
      "Epoch 25/25\n",
      "250/250 [==============================] - 47s 187ms/step - loss: 0.2480 - accuracy: 0.8999 - val_loss: 0.4970 - val_accuracy: 0.8015\n"
     ]
    },
    {
     "data": {
      "text/plain": [
       "<tensorflow.python.keras.callbacks.History at 0x1f1ff86f280>"
      ]
     },
     "execution_count": 34,
     "metadata": {},
     "output_type": "execute_result"
    }
   ],
   "source": [
    "cnn.fit(x = training_set, validation_data = test_set, epochs = 25)"
   ]
  },
  {
   "cell_type": "code",
   "execution_count": 35,
   "id": "4c444ea0",
   "metadata": {},
   "outputs": [],
   "source": [
    "import numpy as np\n",
    "from keras.preprocessing import image\n",
    "test_image = image.load_img('dataset/single_prediction/cat_or_dog_1.jpg', target_size = (64, 64))\n",
    "test_image = image.img_to_array(test_image)\n",
    "test_image = np.expand_dims(test_image, axis = 0)\n",
    "result = cnn.predict(test_image)\n",
    "training_set.class_indices\n",
    "if result[0][0] == 1:\n",
    "  prediction = 'dog'\n",
    "else:\n",
    "  prediction = 'cat'"
   ]
  },
  {
   "cell_type": "code",
   "execution_count": 36,
   "id": "08994e36",
   "metadata": {},
   "outputs": [
    {
     "name": "stdout",
     "output_type": "stream",
     "text": [
      "dog\n"
     ]
    }
   ],
   "source": [
    "print(prediction)"
   ]
  },
  {
   "cell_type": "code",
   "execution_count": 37,
   "id": "124cf279",
   "metadata": {},
   "outputs": [],
   "source": [
    "cnn.save('CNN_Model.h5')"
   ]
  },
  {
   "cell_type": "code",
   "execution_count": 3,
   "id": "a5b2196a",
   "metadata": {},
   "outputs": [
    {
     "name": "stderr",
     "output_type": "stream",
     "text": [
      "'python.__version__' is not recognized as an internal or external command,\n",
      "operable program or batch file.\n"
     ]
    }
   ],
   "source": [
    "!python.__version__"
   ]
  },
  {
   "cell_type": "code",
   "execution_count": 4,
   "id": "26e8fa83",
   "metadata": {},
   "outputs": [
    {
     "name": "stdout",
     "output_type": "stream",
     "text": [
      "3.8.8\n"
     ]
    }
   ],
   "source": [
    "from platform import python_version\n",
    "\n",
    "print(python_version())"
   ]
  },
  {
   "cell_type": "code",
   "execution_count": null,
   "id": "f667f226",
   "metadata": {},
   "outputs": [],
   "source": []
  }
 ],
 "metadata": {
  "kernelspec": {
   "display_name": "Python 3",
   "language": "python",
   "name": "python3"
  },
  "language_info": {
   "codemirror_mode": {
    "name": "ipython",
    "version": 3
   },
   "file_extension": ".py",
   "mimetype": "text/x-python",
   "name": "python",
   "nbconvert_exporter": "python",
   "pygments_lexer": "ipython3",
   "version": "3.8.8"
  }
 },
 "nbformat": 4,
 "nbformat_minor": 5
}
